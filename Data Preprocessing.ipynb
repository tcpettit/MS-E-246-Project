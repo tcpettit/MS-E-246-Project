{
 "cells": [
  {
   "cell_type": "code",
   "execution_count": 81,
   "metadata": {},
   "outputs": [],
   "source": [
    "import numpy as np\n",
    "import pandas as pd\n",
    "import statistics as stat\n",
    "from sklearn.preprocessing import LabelEncoder\n",
    "from sklearn.preprocessing import OrdinalEncoder\n",
    "from sklearn.preprocessing import StandardScaler"
   ]
  },
  {
   "cell_type": "code",
   "execution_count": 82,
   "metadata": {},
   "outputs": [],
   "source": [
    "df = pd.read_csv(r'C:\\Users\\Thomas Pettit\\Desktop\\MS&E 246\\SBA_Loan_Data.csv', low_memory = False)"
   ]
  },
  {
   "cell_type": "code",
   "execution_count": 83,
   "metadata": {},
   "outputs": [],
   "source": [
    "#DATA PREPROCESSING\n",
    "\n",
    "# address missing values\n",
    "df = df.drop(df.index[36780])\n",
    "df = df.drop(df.index[102446])\n",
    "\n",
    "#remove rows with canceled and exempt statuses\n",
    "df = df.loc[df[\"LoanStatus\"] != \"CANCLD\"]\n",
    "df = df.loc[df[\"LoanStatus\"] != \"EXEMPT\"]\n",
    "df = df.reset_index(drop = True)"
   ]
  },
  {
   "cell_type": "code",
   "execution_count": 84,
   "metadata": {},
   "outputs": [],
   "source": [
    "#ADDITIONAL VARIABLES\n",
    "\n",
    "\n",
    "#Unemployment Rate @ origination\n",
    "state_ur_col = []\n",
    "state_ur_data = pd.read_csv(r'C:\\Users\\Thomas Pettit\\Desktop\\MS&E 246\\State_Unemployment_Rates.csv')\n",
    "\n",
    "for i in range(len(df)):\n",
    "    state = df.at[i, \"BorrState\"]\n",
    "    year = df.at[i, \"ApprovalFiscalYear\"]\n",
    "    if (pd.isna(state) | pd.isna(year)):\n",
    "        state_ur_col.append(np.nan)\n",
    "    elif pd.isna(state_ur_data.at[year-1990, state]):\n",
    "        state_ur_col.append(np.nanmean(state_ur_data[state]))\n",
    "    else:\n",
    "        u_rate = state_ur_data.at[year-1990, state]\n",
    "        state_ur_col.append(u_rate)\n",
    "\n",
    "df[\"State_UR\"] = state_ur_col"
   ]
  },
  {
   "cell_type": "code",
   "execution_count": 85,
   "metadata": {},
   "outputs": [],
   "source": [
    "# Add State GDP @ time of origination\n",
    "\n",
    "state_gdp_data = pd.read_csv(r'C:\\Users\\Thomas Pettit\\Desktop\\MS&E 246\\State_GDP_data.csv')\n",
    "state_gdp_col = []\n",
    "\n",
    "for i in range(len(df)):\n",
    "    borr_state = df.at[i, \"BorrState\"]\n",
    "    year_index = df.at[i, \"ApprovalFiscalYear\"] - 1997\n",
    "    if borr_state == \"GU\":\n",
    "        gdp_val = 4850\n",
    "    elif borr_state == \"VI\":\n",
    "        gdp_val = 3665\n",
    "    elif year_index >= 0:\n",
    "        gdp_val = state_gdp_data.at[year_index, borr_state]\n",
    "    else:\n",
    "        gdp_val = np.mean(state_gdp_data[borr_state])\n",
    "        \n",
    "    state_gdp_col.append(gdp_val)\n",
    "\n",
    "df[\"State_GDP\"] = state_gdp_col"
   ]
  },
  {
   "cell_type": "code",
   "execution_count": 86,
   "metadata": {},
   "outputs": [],
   "source": [
    "#Add federal fund rate at approval year\n",
    "\n",
    "fed_rate_data = pd.read_csv(r'C:\\Users\\Thomas Pettit\\Desktop\\MS&E 246\\Fed_Fund_Rate.csv')\n",
    "fed_rate_col = []\n",
    "\n",
    "for i in range(len(df)):\n",
    "    year = df.at[i, \"ApprovalFiscalYear\"]\n",
    "    rate = fed_rate_data.iloc[year-1990, 0]\n",
    "    fed_rate_col.append(rate)\n",
    "\n",
    "df[\"Fed_Fund_at_Approval\"] = fed_rate_col"
   ]
  },
  {
   "cell_type": "code",
   "execution_count": 87,
   "metadata": {},
   "outputs": [],
   "source": [
    "#change to 2 digit NAICS codes\n",
    "two_digit = []\n",
    "for i in range(len(df[\"NaicsCode\"])):\n",
    "    elem = df.loc[i, \"NaicsCode\"]\n",
    "    if (pd.isna(elem)):\n",
    "        two_digit.append(\"Unknown\")\n",
    "    else:\n",
    "        two_digit.append(str(elem)[:2])\n",
    "\n",
    "df[\"2DigitNaics\"] = two_digit"
   ]
  },
  {
   "cell_type": "code",
   "execution_count": 88,
   "metadata": {},
   "outputs": [],
   "source": [
    "#Add S&P yearly return @ origination\n",
    "sp500_df = pd.read_csv(r'C:\\Users\\Thomas Pettit\\Desktop\\MS&E 246\\sp-500-historical-annual-returns.csv')\n",
    "sp500 = []\n",
    "for i in range(len(df)):\n",
    "    year = df.loc[i, \"ApprovalFiscalYear\"]\n",
    "    rtrn = sp500_df.iloc[year - 1990, 0]\n",
    "    sp500.append(rtrn)\n",
    "\n",
    "df[\"S&P_Return\"] = sp500\n",
    "    "
   ]
  },
  {
   "cell_type": "code",
   "execution_count": 89,
   "metadata": {},
   "outputs": [],
   "source": [
    "#fill missing values\n",
    "df[\"CDC_State\"] = df[\"CDC_State\"].fillna(\"Unknown\")\n",
    "df[\"ProjectState\"] = df[\"ProjectState\"].fillna(\"Unkmown\")\n",
    "df[\"BusinessType\"] = df[\"BusinessType\"].fillna(\"Unknown\")\n",
    "df[\"ThirdPartyDollars\"] = df[\"ThirdPartyDollars\"].fillna(0)"
   ]
  },
  {
   "cell_type": "code",
   "execution_count": 90,
   "metadata": {},
   "outputs": [],
   "source": [
    "#Add total loan var\n",
    "loan_sum = []\n",
    "for i in range(len(df)):\n",
    "    tot = 0\n",
    "    thrd_pt = df.loc[i, \"ThirdPartyDollars\"]\n",
    "    cdc_pt = df.loc[i, \"GrossApproval\"]\n",
    "    tot = thrd_pt + cdc_pt\n",
    "    loan_sum.append(tot)\n",
    "\n",
    "df[\"LoanTotal\"] = loan_sum"
   ]
  },
  {
   "cell_type": "code",
   "execution_count": 91,
   "metadata": {},
   "outputs": [],
   "source": [
    "#create var checking relationship between borrower and proj/bank states\n",
    "proj_borr_state_same = []\n",
    "for i in range(len(df)):\n",
    "    borr_state = df.at[i, \"BorrState\"]\n",
    "    project_state = df.at[i, \"ProjectState\"]\n",
    "    if borr_state == project_state:\n",
    "        proj_borr_state_same.append(1)\n",
    "    else:\n",
    "        proj_borr_state_same.append(0)\n",
    "        \n",
    "borr_CDC_state_same = []\n",
    "for i in range(len(df)):\n",
    "    borr_state = df.at[i, \"BorrState\"]\n",
    "    CDC_state = df.at[i, \"CDC_State\"]\n",
    "    if borr_state == CDC_state:\n",
    "        borr_CDC_state_same.append(1)\n",
    "    else:\n",
    "        borr_CDC_state_same.append(0)\n",
    "        \n",
    "#check if term multiple of year    \n",
    "term_mult_year = []\n",
    "for i in range(len(df)):\n",
    "    months = df.loc[i, \"TermInMonths\"]\n",
    "    if (months % 12 == 0):\n",
    "        term_mult_year.append(1)\n",
    "    else:\n",
    "        term_mult_year.append(0)\n",
    "        \n",
    "df[\"ProjBorrState_Same\"] = proj_borr_state_same\n",
    "df[\"BorrCDCState_Same\"] = borr_CDC_state_same\n",
    "df[\"TermMultofYear\"] = term_mult_year"
   ]
  },
  {
   "cell_type": "code",
   "execution_count": 92,
   "metadata": {},
   "outputs": [],
   "source": [
    "#Encode Loan Status \n",
    "for i in range(len(df)):\n",
    "    if (df.loc[i, \"LoanStatus\"] == \"PIF\"):\n",
    "        df.at[i, \"LoanStatus\"] = 0\n",
    "    elif (df.loc[i, \"LoanStatus\"] == \"CHGOFF\"):\n",
    "        df.at[i, \"LoanStatus\"] = 1\n",
    "        \n",
    "df[\"LoanStatus\"] = pd.to_numeric(df[\"LoanStatus\"])"
   ]
  },
  {
   "cell_type": "code",
   "execution_count": 93,
   "metadata": {},
   "outputs": [
    {
     "name": "stdout",
     "output_type": "stream",
     "text": [
      "Program has 0 missing values at [].\n",
      "\n",
      "BorrName has 0 missing values at [].\n",
      "\n",
      "BorrStreet has 8 missing values at [2043, 2289, 4793, 6682, 10355, 16154, 16643, 17898].\n",
      "\n",
      "BorrCity has 0 missing values at [].\n",
      "\n",
      "BorrState has 0 missing values at [].\n",
      "\n",
      "BorrZip has 0 missing values at [].\n",
      "\n",
      "CDC_Name has 0 missing values at [].\n",
      "\n",
      "CDC_Street has 192 missing values at [18, 90, 91, 113, 114, 167, 216, 217, 245, 314].\n",
      "\n",
      "CDC_City has 192 missing values at [18, 90, 91, 113, 114, 167, 216, 217, 245, 314].\n",
      "\n",
      "CDC_State has 0 missing values at [].\n",
      "\n",
      "CDC_Zip has 192 missing values at [18, 90, 91, 113, 114, 167, 216, 217, 245, 314].\n",
      "\n",
      "ThirdPartyLender_Name has 37853 missing values at [0, 1, 2, 3, 4, 5, 6, 7, 8, 9].\n",
      "\n",
      "ThirdPartyLender_City has 37853 missing values at [0, 1, 2, 3, 4, 5, 6, 7, 8, 9].\n",
      "\n",
      "ThirdPartyLender_State has 37738 missing values at [0, 1, 2, 3, 4, 5, 6, 7, 8, 9].\n",
      "\n",
      "ThirdPartyDollars has 0 missing values at [].\n",
      "\n",
      "GrossApproval has 0 missing values at [].\n",
      "\n",
      "ApprovalDate has 0 missing values at [].\n",
      "\n",
      "ApprovalFiscalYear has 0 missing values at [].\n",
      "\n",
      "DeliveryMethod has 0 missing values at [].\n",
      "\n",
      "subpgmdesc has 0 missing values at [].\n",
      "\n",
      "InitialInterestRate has 53926 missing values at [0, 1, 2, 3, 4, 5, 6, 7, 8, 9].\n",
      "\n",
      "TermInMonths has 0 missing values at [].\n",
      "\n",
      "NaicsCode has 16850 missing values at [0, 1, 2, 3, 4, 6, 7, 9, 12, 15].\n",
      "\n",
      "NaicsDescription has 17170 missing values at [0, 1, 2, 3, 4, 6, 7, 9, 12, 15].\n",
      "\n",
      "ProjectCounty has 70 missing values at [642, 1022, 1056, 2517, 2535, 2725, 3259, 3336, 3339, 3517].\n",
      "\n",
      "ProjectState has 0 missing values at [].\n",
      "\n",
      "BusinessType has 0 missing values at [].\n",
      "\n",
      "LoanStatus has 0 missing values at [].\n",
      "\n",
      "ChargeOffDate has 45824 missing values at [0, 1, 2, 4, 5, 6, 7, 8, 9, 10].\n",
      "\n",
      "GrossChargeOffAmount has 0 missing values at [].\n",
      "\n",
      "State_UR has 0 missing values at [].\n",
      "\n",
      "State_GDP has 0 missing values at [].\n",
      "\n",
      "Fed_Fund_at_Approval has 0 missing values at [].\n",
      "\n",
      "2DigitNaics has 0 missing values at [].\n",
      "\n",
      "S&P_Return has 0 missing values at [].\n",
      "\n",
      "LoanTotal has 0 missing values at [].\n",
      "\n",
      "ProjBorrState_Same has 0 missing values at [].\n",
      "\n",
      "BorrCDCState_Same has 0 missing values at [].\n",
      "\n",
      "TermMultofYear has 0 missing values at [].\n",
      "\n"
     ]
    }
   ],
   "source": [
    "#check for NA's\n",
    "for i in range(len(df.columns)):\n",
    "    count = 0\n",
    "    missing_index = []\n",
    "    for j in range(len(df)):\n",
    "        if pd.isna(df.iloc[j, i]):\n",
    "            count +=1\n",
    "            missing_index.append(j)            \n",
    "    print(df.columns[i] + \" has \" + str(count) + \" missing values at \" + str(missing_index[0:10]) \n",
    "          + \".\\n\")"
   ]
  },
  {
   "cell_type": "code",
   "execution_count": 94,
   "metadata": {},
   "outputs": [],
   "source": [
    "dups = df[df.duplicated(['BorrName'])].loc[:, \"BorrName\"]\n",
    "dups = set(dups)\n",
    "\n",
    "duplicate = []\n",
    "for i in range(len(df)):\n",
    "    name = df.loc[i, \"BorrName\"]\n",
    "    if (name in dups):\n",
    "        duplicate.append(1)\n",
    "    else:\n",
    "        duplicate.append(0)\n",
    "\n",
    "df[\"RepeatBorr\"] = duplicate"
   ]
  },
  {
   "cell_type": "code",
   "execution_count": 95,
   "metadata": {},
   "outputs": [],
   "source": [
    "#Normalize Loan_Total\n",
    "mean_approval = stat.mean(df[\"LoanTotal\"])\n",
    "stdev_approval = stat.stdev(df[\"LoanTotal\"])\n",
    "df.loc[:, \"LoanTotal_Norm\"] = df.loc[:, \"LoanTotal\"].apply(lambda x: (x-mean_approval)/stdev_approval)"
   ]
  },
  {
   "cell_type": "code",
   "execution_count": 109,
   "metadata": {},
   "outputs": [],
   "source": [
    "#Select regressor data\n",
    "data_to_use = [\"LoanTotal_Norm\", \"TermInMonths\", \"State_UR\", \"TermMultofYear\", \"BorrCDCState_Same\",\n",
    "              \"ProjBorrState_Same\", \"S&P_Return\", \"BusinessType\", \"LoanStatus\", \"RepeatBorr\",\n",
    "              \"subpgmdesc\"]"
   ]
  },
  {
   "cell_type": "code",
   "execution_count": 110,
   "metadata": {},
   "outputs": [],
   "source": [
    "df_to_use = df[data_to_use]\n",
    "df_to_use = pd.get_dummies(df_to_use).astype(float)\n",
    "\n",
    "#CORPORATION Status captures most of the Business type information\n",
    "#subpgmdesc_Sec. 504 - Loan Guarantees - Private Sector Financed captures most subpgmdesc information\n",
    "df_to_use = df_to_use.drop([\"BusinessType_INDIVIDUAL\", \"BusinessType_PARTNERSHIP\", \"BusinessType_Unknown\",\n",
    "                           \"subpgmdesc_504 Refinance\", \"subpgmdesc_Sec. 504 - Delta loans, funded 9/26/95\",\n",
    "                           \"subpgmdesc_Sec. 504 - Premier Certified Lender Program\"], axis = 1)\n",
    "\n"
   ]
  },
  {
   "cell_type": "code",
   "execution_count": 112,
   "metadata": {},
   "outputs": [],
   "source": [
    "df_to_use.to_csv(r'C:\\Users\\Thomas Pettit\\Desktop\\MS&E 246\\regression_SBA_data.csv', index = False)"
   ]
  }
 ],
 "metadata": {
  "kernelspec": {
   "display_name": "Python 3",
   "language": "python",
   "name": "python3"
  },
  "language_info": {
   "codemirror_mode": {
    "name": "ipython",
    "version": 3
   },
   "file_extension": ".py",
   "mimetype": "text/x-python",
   "name": "python",
   "nbconvert_exporter": "python",
   "pygments_lexer": "ipython3",
   "version": "3.7.4"
  }
 },
 "nbformat": 4,
 "nbformat_minor": 2
}
