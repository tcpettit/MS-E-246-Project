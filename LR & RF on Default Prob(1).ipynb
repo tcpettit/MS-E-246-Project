{
 "cells": [
  {
   "cell_type": "code",
   "execution_count": 192,
   "metadata": {},
   "outputs": [],
   "source": [
    "import numpy as np\n",
    "import pandas as pd\n",
    "import matplotlib.pyplot as plt\n",
    "import seaborn as sns\n",
    "import statistics as stat\n",
    "\n",
    "from sklearn.preprocessing import LabelEncoder\n",
    "from sklearn.preprocessing import StandardScaler\n",
    "from sklearn.model_selection import train_test_split\n",
    "from sklearn.linear_model import LogisticRegression\n",
    "from sklearn.metrics import confusion_matrix\n",
    "from sklearn.metrics import roc_curve\n",
    "from sklearn.metrics import roc_auc_score\n",
    "from sklearn.metrics import auc\n",
    "from sklearn.ensemble import RandomForestClassifier\n",
    "\n",
    "from scipy import stats\n",
    "\n",
    "import statsmodels.api as sm"
   ]
  },
  {
   "cell_type": "code",
   "execution_count": 205,
   "metadata": {},
   "outputs": [],
   "source": [
    "df = pd.read_csv(r'C:\\Users\\Thomas Pettit\\Desktop\\MS&E 246\\regression_SBA_data.csv', low_memory = False)\n",
    "#df = df.drop([\"TermInMonths\", \"subpgmdesc_Sec. 504 - Loan Guarantees - Private Sector Financed\"], axis = 1)\n",
    "df = df.drop(\"TermInMonths\", axis = 1)\n",
    "#drop_cols = [\"BorrCity\", \"CDC_City\", \"BorrState\", \"CDC_State\"]\n",
    "#df = df.drop(labels = drop_cols, axis = 1)"
   ]
  },
  {
   "cell_type": "code",
   "execution_count": 206,
   "metadata": {},
   "outputs": [],
   "source": [
    "#Split test and train data \n",
    "X = df.loc[:, df.columns != 'LoanStatus']\n",
    "y = df.loc[:, df.columns == 'LoanStatus']\n",
    "\n",
    "x_train, x_test, y_train, y_test = train_test_split(X, y, test_size = 0.3, stratify = y)"
   ]
  },
  {
   "cell_type": "code",
   "execution_count": 207,
   "metadata": {},
   "outputs": [
    {
     "data": {
      "text/plain": [
       "Index(['LoanTotal_Norm', 'State_UR', 'TermMultofYear', 'BorrCDCState_Same',\n",
       "       'ProjBorrState_Same', 'S&P_Return', 'RepeatBorr',\n",
       "       'BusinessType_CORPORATION',\n",
       "       'subpgmdesc_Sec. 504 - Loan Guarantees - Private Sector Financed'],\n",
       "      dtype='object')"
      ]
     },
     "execution_count": 207,
     "metadata": {},
     "output_type": "execute_result"
    }
   ],
   "source": [
    "x_train.columns"
   ]
  },
  {
   "cell_type": "code",
   "execution_count": 208,
   "metadata": {},
   "outputs": [],
   "source": [
    "lr = LogisticRegression(max_iter = 10000)\n",
    "lr.fit(x_train, y_train.values.ravel())\n",
    "train_preds = lr.predict(x_train)\n",
    "test_preds = lr.predict(x_test)"
   ]
  },
  {
   "cell_type": "code",
   "execution_count": 209,
   "metadata": {},
   "outputs": [],
   "source": [
    "from scipy import stats\n",
    "stats.chisqprob = lambda chisq, df: stas.chi2.sf(chisq, df)"
   ]
  },
  {
   "cell_type": "code",
   "execution_count": 210,
   "metadata": {},
   "outputs": [
    {
     "name": "stdout",
     "output_type": "stream",
     "text": [
      "Optimization terminated successfully.\n",
      "         Current function value: 0.409758\n",
      "         Iterations 6\n"
     ]
    }
   ],
   "source": [
    "model = sm.Logit(y_train, x_train)\n",
    "result = model.fit()\n",
    "results_summary = result.summary()"
   ]
  },
  {
   "cell_type": "code",
   "execution_count": 211,
   "metadata": {},
   "outputs": [],
   "source": [
    "results_html = results_summary.tables[1].as_html()\n",
    "table = pd.read_html(results_html, header = 0, index_col = 0)[0]"
   ]
  },
  {
   "cell_type": "code",
   "execution_count": 212,
   "metadata": {},
   "outputs": [
    {
     "name": "stdout",
     "output_type": "stream",
     "text": [
      "                                                      coef  std err       z  \\\n",
      "LoanTotal_Norm                                      0.5173    0.014  37.689   \n",
      "State_UR                                           -0.1649    0.010 -16.021   \n",
      "TermMultofYear                                     -0.3833    0.162  -2.364   \n",
      "BorrCDCState_Same                                  -0.6595    0.056 -11.792   \n",
      "ProjBorrState_Same                                  0.2506    0.165   1.523   \n",
      "S&P_Return                                         -0.0206    0.001 -25.663   \n",
      "RepeatBorr                                         -0.1426    0.054  -2.637   \n",
      "BusinessType_CORPORATION                            0.0511    0.041   1.243   \n",
      "subpgmdesc_Sec. 504 - Loan Guarantees - Private...  0.0368    0.050   0.739   \n",
      "\n",
      "                                                    P>|z|  [0.025  0.975]  \n",
      "LoanTotal_Norm                                      0.000   0.490   0.544  \n",
      "State_UR                                            0.000  -0.185  -0.145  \n",
      "TermMultofYear                                      0.018  -0.701  -0.066  \n",
      "BorrCDCState_Same                                   0.000  -0.769  -0.550  \n",
      "ProjBorrState_Same                                  0.128  -0.072   0.573  \n",
      "S&P_Return                                          0.000  -0.022  -0.019  \n",
      "RepeatBorr                                          0.008  -0.249  -0.037  \n",
      "BusinessType_CORPORATION                            0.214  -0.029   0.132  \n",
      "subpgmdesc_Sec. 504 - Loan Guarantees - Private...  0.460  -0.061   0.134  \n"
     ]
    }
   ],
   "source": [
    "table.index = list(X.columns)\n",
    "print(table.head(20))"
   ]
  },
  {
   "cell_type": "code",
   "execution_count": 213,
   "metadata": {},
   "outputs": [
    {
     "name": "stdout",
     "output_type": "stream",
     "text": [
      "Training Accuracy is:  0.8365915962881868\n",
      "Testing Accuracy is:  0.8355431212747841\n"
     ]
    }
   ],
   "source": [
    "#train and test accuracy\n",
    "\n",
    "y_train = y_train.to_numpy()\n",
    "y_test = y_test.to_numpy()\n",
    "\n",
    "sum_train = 0\n",
    "for i in range(len(y_train)):\n",
    "    if (train_preds[i] == y_train[i]):\n",
    "        sum_train += 1\n",
    "\n",
    "sum_test = 0\n",
    "for i in range(len(y_test)):\n",
    "    if (test_preds[i] == y_test[i]):\n",
    "        sum_test += 1\n",
    "\n",
    "train_actual = sum_train/len(y_train)\n",
    "test_actual = sum_test/len(y_test)\n",
    "\n",
    "print(\"Training Accuracy is: \", train_actual)\n",
    "print(\"Testing Accuracy is: \", test_actual)"
   ]
  },
  {
   "cell_type": "code",
   "execution_count": 214,
   "metadata": {},
   "outputs": [
    {
     "name": "stdout",
     "output_type": "stream",
     "text": [
      "[[13559   188]\n",
      " [ 2516   179]]\n"
     ]
    }
   ],
   "source": [
    "conf_mat = confusion_matrix(y_test, test_preds)\n",
    "print(conf_mat)"
   ]
  },
  {
   "cell_type": "code",
   "execution_count": 215,
   "metadata": {},
   "outputs": [
    {
     "data": {
      "image/png": "[encoded data removed]",
      "text/plain": [
       "<Figure size 648x648 with 2 Axes>"
      ]
     },
     "metadata": {},
     "output_type": "display_data"
    }
   ],
   "source": [
    "# Construct Plots\n",
    "plt.figure(figsize = (9, 9))\n",
    "sns.heatmap(conf_mat, annot = True, fmt = \".0f\", linewidth = .5, square = True, cmap = 'Blues_r')\n",
    "plt.ylabel(\"True Label\")\n",
    "plt.xlabel(\"Model Label\")\n",
    "full_sample_tit = \"LR Test Accuracy: {0}\".format(test_actual)\n",
    "plt.title(full_sample_tit, size = 15)\n",
    "plt.show()"
   ]
  },
  {
   "cell_type": "code",
   "execution_count": 259,
   "metadata": {},
   "outputs": [
    {
     "data": {
      "image/png": "[encoded data removed]",
      "text/plain": [
       "<Figure size 432x288 with 1 Axes>"
      ]
     },
     "metadata": {},
     "output_type": "display_data"
    }
   ],
   "source": [
    "logit_roc_auc = roc_auc_score(y_test, lr.predict_proba(x_test)[:,1])\n",
    "fpr, tpr, thresholds = roc_curve(y_test, lr.predict_proba(x_test)[:,1])\n",
    "plt.figure()\n",
    "plt.plot(fpr, tpr, label = \"Logistic Regression (AUC = %0.2f)\" % logit_roc_auc)\n",
    "plt.plot([0, 1], [0, 1], \"r--\")\n",
    "plt.xlim([0.0, 1.0])\n",
    "plt.ylim([0.0, 1.05])\n",
    "plt.xlabel(\"False Positive Rate\")\n",
    "plt.ylabel(\"True Positive Rate\")\n",
    "plt.title(\"ROC Curve - LR\")\n",
    "plt.legend(loc = \"lower right\")\n",
    "plt.show()"
   ]
  },
  {
   "cell_type": "code",
   "execution_count": 217,
   "metadata": {},
   "outputs": [
    {
     "name": "stdout",
     "output_type": "stream",
     "text": [
      "              precision    recall  f1-score   support\n",
      "\n",
      "         0.0       0.84      0.99      0.91     13747\n",
      "         1.0       0.49      0.07      0.12      2695\n",
      "\n",
      "    accuracy                           0.84     16442\n",
      "   macro avg       0.67      0.53      0.51     16442\n",
      "weighted avg       0.79      0.84      0.78     16442\n",
      "\n"
     ]
    }
   ],
   "source": [
    "from sklearn.metrics import classification_report\n",
    "print(classification_report(y_test, test_preds))"
   ]
  },
  {
   "cell_type": "code",
   "execution_count": 257,
   "metadata": {},
   "outputs": [
    {
     "name": "stdout",
     "output_type": "stream",
     "text": [
      "Feature  ProjBorrState_Same has an importance of:  0.7720802645624978\n",
      "Feature  LoanTotal_Norm has an importance of:  0.5154885378674937\n",
      "Feature  TermMultofYear has an importance of:  0.3512346123223429\n",
      "Feature  BusinessType_CORPORATION has an importance of:  0.0677622904947172\n",
      "Feature  subpgmdesc_Sec. 504 - Loan Guarantees - Private Sector Financed has an importance of:  0.06295318376060417\n",
      "Feature  S&P_Return has an importance of:  -0.020494121570342846\n",
      "Feature  RepeatBorr has an importance of:  -0.13989212277391058\n",
      "Feature  State_UR has an importance of:  -0.15842122804720188\n",
      "Feature  BorrCDCState_Same has an importance of:  -0.6511983373627231\n"
     ]
    }
   ],
   "source": [
    "#Feature Importance\n",
    "cols = x_train.columns\n",
    "feat_import = lr.coef_[0]\n",
    "col_names = cols\n",
    "order = np.argsort(feat_import)[::-1]\n",
    "feat_import = feat_import[order]\n",
    "col_names = col_names[order]\n",
    "\n",
    "for i in range(len(feat_import)):\n",
    "    print(\"Feature \", col_names[i], \"has an importance of: \",\n",
    "         feat_import[i])"
   ]
  },
  {
   "cell_type": "code",
   "execution_count": 247,
   "metadata": {},
   "outputs": [],
   "source": [
    "#Random Forrest Algo\n",
    "\n",
    "rf = RandomForestClassifier(1000, n_jobs = -1, max_depth = 10)\n",
    "rf.fit(x_train, y_train.ravel())\n",
    "train_preds_rf = rf.predict(x_train)\n",
    "test_preds_rf = rf.predict(x_test)"
   ]
  },
  {
   "cell_type": "code",
   "execution_count": 248,
   "metadata": {},
   "outputs": [
    {
     "name": "stdout",
     "output_type": "stream",
     "text": [
      "Training Accuracy is:  0.8689656970076113\n",
      "Testing Accuracy is:  0.8517820216518671\n"
     ]
    }
   ],
   "source": [
    "sum_train = 0\n",
    "for i in range(len(y_train)):\n",
    "    if (train_preds_rf[i] == y_train[i]):\n",
    "        sum_train += 1\n",
    "\n",
    "sum_test = 0\n",
    "for i in range(len(y_test)):\n",
    "    if (test_preds_rf[i] == y_test[i]):\n",
    "        sum_test += 1\n",
    "\n",
    "train_actual_rf = sum_train/len(y_train)\n",
    "test_actual_rf = sum_test/len(y_test)\n",
    "\n",
    "print(\"Training Accuracy is: \", train_actual_rf)\n",
    "print(\"Testing Accuracy is: \", test_actual_rf)"
   ]
  },
  {
   "cell_type": "code",
   "execution_count": 258,
   "metadata": {},
   "outputs": [
    {
     "name": "stdout",
     "output_type": "stream",
     "text": [
      "Feature  S&P_Return has an importance of:  0.4206462194527722\n",
      "Feature  LoanTotal_Norm has an importance of:  0.36642600352179994\n",
      "Feature  State_UR has an importance of:  0.16035784147732904\n",
      "Feature  BorrCDCState_Same has an importance of:  0.016641015687809273\n",
      "Feature  subpgmdesc_Sec. 504 - Loan Guarantees - Private Sector Financed has an importance of:  0.011896546843226843\n",
      "Feature  BusinessType_CORPORATION has an importance of:  0.010777761335457653\n",
      "Feature  RepeatBorr has an importance of:  0.010086954659557773\n",
      "Feature  ProjBorrState_Same has an importance of:  0.0021762783171660562\n",
      "Feature  TermMultofYear has an importance of:  0.000991378704881165\n"
     ]
    }
   ],
   "source": [
    "feat_import = rf.feature_importances_\n",
    "col_names = cols\n",
    "order = np.argsort(feat_import)[::-1]\n",
    "feat_import = feat_import[order]\n",
    "col_names = col_names[order]\n",
    "\n",
    "for i in range(len(feat_import)):\n",
    "    print(\"Feature \",col_names[i], \"has an importance of: \", feat_import[i])"
   ]
  },
  {
   "cell_type": "code",
   "execution_count": 228,
   "metadata": {},
   "outputs": [
    {
     "name": "stdout",
     "output_type": "stream",
     "text": [
      "[[13412   335]\n",
      " [ 2107   588]]\n"
     ]
    }
   ],
   "source": [
    "conf_mat_rf = confusion_matrix(y_test, test_preds_rf) \n",
    "print(conf_mat_rf)"
   ]
  },
  {
   "cell_type": "code",
   "execution_count": 229,
   "metadata": {},
   "outputs": [
    {
     "data": {
      "image/png": "[encoded data removed]",
      "text/plain": [
       "<Figure size 648x648 with 2 Axes>"
      ]
     },
     "metadata": {},
     "output_type": "display_data"
    }
   ],
   "source": [
    "# Construct Plots\n",
    "plt.figure(figsize = (9, 9))\n",
    "sns.heatmap(conf_mat_rf, annot = True, fmt = \".0f\", linewidth = .5, square = True, cmap = 'Blues_r')\n",
    "plt.ylabel(\"True Label\")\n",
    "plt.xlabel(\"Model Label\")\n",
    "full_sample_tit = \"Random Forest Test Accuracy: {0}\".format(test_actual_rf)\n",
    "plt.title(full_sample_tit, size = 15)\n",
    "plt.show()"
   ]
  },
  {
   "cell_type": "code",
   "execution_count": 260,
   "metadata": {},
   "outputs": [
    {
     "data": {
      "image/png": "[encoded data removed]",
      "text/plain": [
       "<Figure size 432x288 with 1 Axes>"
      ]
     },
     "metadata": {},
     "output_type": "display_data"
    }
   ],
   "source": [
    "rf_roc_auc = roc_auc_score(y_test, rf.predict_proba(x_test)[:,1])\n",
    "fpr, tpr, thresholds = roc_curve(y_test, rf.predict_proba(x_test)[:,1])\n",
    "plt.figure()\n",
    "plt.plot(fpr, tpr, label = \"Logistic Regression (AUC = %0.2f)\" % rf_roc_auc)\n",
    "plt.plot([0, 1], [0, 1], \"r--\")\n",
    "plt.xlim([0.0, 1.0])\n",
    "plt.ylim([0.0, 1.05])\n",
    "plt.xlabel(\"False Positive Rate\")\n",
    "plt.ylabel(\"True Positive Rate\")\n",
    "plt.title(\"ROC Curve - RF\")\n",
    "plt.legend(loc = \"lower right\")\n",
    "plt.show()"
   ]
  },
  {
   "cell_type": "code",
   "execution_count": 244,
   "metadata": {},
   "outputs": [
    {
     "ename": "RuntimeError",
     "evalue": "module compiled against API version 0xe but this version of numpy is 0xd",
     "output_type": "error",
     "traceback": [
      "\u001b[1;31m---------------------------------------------------------------------------\u001b[0m",
      "\u001b[1;31mRuntimeError\u001b[0m                              Traceback (most recent call last)",
      "\u001b[1;31mRuntimeError\u001b[0m: module compiled against API version 0xe but this version of numpy is 0xd"
     ]
    },
    {
     "ename": "ImportError",
     "evalue": "SystemError: <built-in method __contains__ of dict object at 0x000001F5E332EBD8> returned a result with an error set",
     "output_type": "error",
     "traceback": [
      "\u001b[1;31m---------------------------------------------------------------------------\u001b[0m",
      "\u001b[1;31mImportError\u001b[0m                               Traceback (most recent call last)",
      "\u001b[1;32m<ipython-input-244-c7d5e2a0ff53>\u001b[0m in \u001b[0;36m<module>\u001b[1;34m\u001b[0m\n\u001b[0;32m      1\u001b[0m \u001b[1;31m#Neural Net Algo\u001b[0m\u001b[1;33m\u001b[0m\u001b[1;33m\u001b[0m\u001b[1;33m\u001b[0m\u001b[0m\n\u001b[1;32m----> 2\u001b[1;33m \u001b[1;32mimport\u001b[0m \u001b[0mkeras\u001b[0m\u001b[1;33m\u001b[0m\u001b[1;33m\u001b[0m\u001b[0m\n\u001b[0m\u001b[0;32m      3\u001b[0m \u001b[1;32mfrom\u001b[0m \u001b[0mkeras\u001b[0m\u001b[1;33m.\u001b[0m\u001b[0mmodels\u001b[0m \u001b[1;32mimport\u001b[0m \u001b[0mSequential\u001b[0m\u001b[1;33m\u001b[0m\u001b[1;33m\u001b[0m\u001b[0m\n\u001b[0;32m      4\u001b[0m \u001b[1;32mfrom\u001b[0m \u001b[0mkeras\u001b[0m\u001b[1;33m.\u001b[0m\u001b[0mlayers\u001b[0m \u001b[1;32mimport\u001b[0m \u001b[0mDense\u001b[0m\u001b[1;33m\u001b[0m\u001b[1;33m\u001b[0m\u001b[0m\n\u001b[0;32m      5\u001b[0m \u001b[1;32mfrom\u001b[0m \u001b[0mkeras\u001b[0m\u001b[1;33m.\u001b[0m\u001b[0mlayers\u001b[0m \u001b[1;32mimport\u001b[0m \u001b[0mDropout\u001b[0m\u001b[1;33m\u001b[0m\u001b[1;33m\u001b[0m\u001b[0m\n",
      "\u001b[1;32m~\\Anaconda3\\lib\\site-packages\\keras\\__init__.py\u001b[0m in \u001b[0;36m<module>\u001b[1;34m\u001b[0m\n\u001b[0;32m     19\u001b[0m \"\"\"\n\u001b[0;32m     20\u001b[0m \u001b[1;31m# pylint: disable=unused-import\u001b[0m\u001b[1;33m\u001b[0m\u001b[1;33m\u001b[0m\u001b[1;33m\u001b[0m\u001b[0m\n\u001b[1;32m---> 21\u001b[1;33m \u001b[1;32mfrom\u001b[0m \u001b[0mtensorflow\u001b[0m\u001b[1;33m.\u001b[0m\u001b[0mpython\u001b[0m \u001b[1;32mimport\u001b[0m \u001b[0mtf2\u001b[0m\u001b[1;33m\u001b[0m\u001b[1;33m\u001b[0m\u001b[0m\n\u001b[0m\u001b[0;32m     22\u001b[0m \u001b[1;32mfrom\u001b[0m \u001b[0mkeras\u001b[0m \u001b[1;32mimport\u001b[0m \u001b[0mdistribute\u001b[0m\u001b[1;33m\u001b[0m\u001b[1;33m\u001b[0m\u001b[0m\n\u001b[0;32m     23\u001b[0m \u001b[1;33m\u001b[0m\u001b[0m\n",
      "\u001b[1;32m~\\Anaconda3\\lib\\site-packages\\tensorflow\\__init__.py\u001b[0m in \u001b[0;36m<module>\u001b[1;34m\u001b[0m\n\u001b[0;32m     35\u001b[0m \u001b[1;32mimport\u001b[0m \u001b[0mtyping\u001b[0m \u001b[1;32mas\u001b[0m \u001b[0m_typing\u001b[0m\u001b[1;33m\u001b[0m\u001b[1;33m\u001b[0m\u001b[0m\n\u001b[0;32m     36\u001b[0m \u001b[1;33m\u001b[0m\u001b[0m\n\u001b[1;32m---> 37\u001b[1;33m \u001b[1;32mfrom\u001b[0m \u001b[0mtensorflow\u001b[0m\u001b[1;33m.\u001b[0m\u001b[0mpython\u001b[0m\u001b[1;33m.\u001b[0m\u001b[0mtools\u001b[0m \u001b[1;32mimport\u001b[0m \u001b[0mmodule_util\u001b[0m \u001b[1;32mas\u001b[0m \u001b[0m_module_util\u001b[0m\u001b[1;33m\u001b[0m\u001b[1;33m\u001b[0m\u001b[0m\n\u001b[0m\u001b[0;32m     38\u001b[0m \u001b[1;32mfrom\u001b[0m \u001b[0mtensorflow\u001b[0m\u001b[1;33m.\u001b[0m\u001b[0mpython\u001b[0m\u001b[1;33m.\u001b[0m\u001b[0mutil\u001b[0m\u001b[1;33m.\u001b[0m\u001b[0mlazy_loader\u001b[0m \u001b[1;32mimport\u001b[0m \u001b[0mLazyLoader\u001b[0m \u001b[1;32mas\u001b[0m \u001b[0m_LazyLoader\u001b[0m\u001b[1;33m\u001b[0m\u001b[1;33m\u001b[0m\u001b[0m\n\u001b[0;32m     39\u001b[0m \u001b[1;33m\u001b[0m\u001b[0m\n",
      "\u001b[1;32m~\\Anaconda3\\lib\\site-packages\\tensorflow\\python\\__init__.py\u001b[0m in \u001b[0;36m<module>\u001b[1;34m\u001b[0m\n\u001b[0;32m     35\u001b[0m \u001b[1;33m\u001b[0m\u001b[0m\n\u001b[0;32m     36\u001b[0m \u001b[1;32mfrom\u001b[0m \u001b[0mtensorflow\u001b[0m\u001b[1;33m.\u001b[0m\u001b[0mpython\u001b[0m \u001b[1;32mimport\u001b[0m \u001b[0mpywrap_tensorflow\u001b[0m \u001b[1;32mas\u001b[0m \u001b[0m_pywrap_tensorflow\u001b[0m\u001b[1;33m\u001b[0m\u001b[1;33m\u001b[0m\u001b[0m\n\u001b[1;32m---> 37\u001b[1;33m \u001b[1;32mfrom\u001b[0m \u001b[0mtensorflow\u001b[0m\u001b[1;33m.\u001b[0m\u001b[0mpython\u001b[0m\u001b[1;33m.\u001b[0m\u001b[0meager\u001b[0m \u001b[1;32mimport\u001b[0m \u001b[0mcontext\u001b[0m\u001b[1;33m\u001b[0m\u001b[1;33m\u001b[0m\u001b[0m\n\u001b[0m\u001b[0;32m     38\u001b[0m \u001b[1;33m\u001b[0m\u001b[0m\n\u001b[0;32m     39\u001b[0m \u001b[1;31m# pylint: enable=wildcard-import\u001b[0m\u001b[1;33m\u001b[0m\u001b[1;33m\u001b[0m\u001b[1;33m\u001b[0m\u001b[0m\n",
      "\u001b[1;32m~\\Anaconda3\\lib\\site-packages\\tensorflow\\python\\eager\\context.py\u001b[0m in \u001b[0;36m<module>\u001b[1;34m\u001b[0m\n\u001b[0;32m     33\u001b[0m \u001b[1;32mfrom\u001b[0m \u001b[0mtensorflow\u001b[0m\u001b[1;33m.\u001b[0m\u001b[0mpython\u001b[0m \u001b[1;32mimport\u001b[0m \u001b[0mpywrap_tfe\u001b[0m\u001b[1;33m\u001b[0m\u001b[1;33m\u001b[0m\u001b[0m\n\u001b[0;32m     34\u001b[0m \u001b[1;32mfrom\u001b[0m \u001b[0mtensorflow\u001b[0m\u001b[1;33m.\u001b[0m\u001b[0mpython\u001b[0m \u001b[1;32mimport\u001b[0m \u001b[0mtf2\u001b[0m\u001b[1;33m\u001b[0m\u001b[1;33m\u001b[0m\u001b[0m\n\u001b[1;32m---> 35\u001b[1;33m \u001b[1;32mfrom\u001b[0m \u001b[0mtensorflow\u001b[0m\u001b[1;33m.\u001b[0m\u001b[0mpython\u001b[0m\u001b[1;33m.\u001b[0m\u001b[0mclient\u001b[0m \u001b[1;32mimport\u001b[0m \u001b[0mpywrap_tf_session\u001b[0m\u001b[1;33m\u001b[0m\u001b[1;33m\u001b[0m\u001b[0m\n\u001b[0m\u001b[0;32m     36\u001b[0m \u001b[1;32mfrom\u001b[0m \u001b[0mtensorflow\u001b[0m\u001b[1;33m.\u001b[0m\u001b[0mpython\u001b[0m\u001b[1;33m.\u001b[0m\u001b[0meager\u001b[0m \u001b[1;32mimport\u001b[0m \u001b[0mexecutor\u001b[0m\u001b[1;33m\u001b[0m\u001b[1;33m\u001b[0m\u001b[0m\n\u001b[0;32m     37\u001b[0m \u001b[1;32mfrom\u001b[0m \u001b[0mtensorflow\u001b[0m\u001b[1;33m.\u001b[0m\u001b[0mpython\u001b[0m\u001b[1;33m.\u001b[0m\u001b[0meager\u001b[0m \u001b[1;32mimport\u001b[0m \u001b[0mmonitoring\u001b[0m\u001b[1;33m\u001b[0m\u001b[1;33m\u001b[0m\u001b[0m\n",
      "\u001b[1;32m~\\Anaconda3\\lib\\site-packages\\tensorflow\\python\\client\\pywrap_tf_session.py\u001b[0m in \u001b[0;36m<module>\u001b[1;34m\u001b[0m\n\u001b[0;32m     17\u001b[0m \u001b[1;31m# pylint: disable=invalid-import-order,g-bad-import-order, wildcard-import, unused-import\u001b[0m\u001b[1;33m\u001b[0m\u001b[1;33m\u001b[0m\u001b[1;33m\u001b[0m\u001b[0m\n\u001b[0;32m     18\u001b[0m \u001b[1;32mfrom\u001b[0m \u001b[0mtensorflow\u001b[0m\u001b[1;33m.\u001b[0m\u001b[0mpython\u001b[0m \u001b[1;32mimport\u001b[0m \u001b[0mpywrap_tensorflow\u001b[0m\u001b[1;33m\u001b[0m\u001b[1;33m\u001b[0m\u001b[0m\n\u001b[1;32m---> 19\u001b[1;33m \u001b[1;32mfrom\u001b[0m \u001b[0mtensorflow\u001b[0m\u001b[1;33m.\u001b[0m\u001b[0mpython\u001b[0m\u001b[1;33m.\u001b[0m\u001b[0mclient\u001b[0m\u001b[1;33m.\u001b[0m\u001b[0m_pywrap_tf_session\u001b[0m \u001b[1;32mimport\u001b[0m \u001b[1;33m*\u001b[0m\u001b[1;33m\u001b[0m\u001b[1;33m\u001b[0m\u001b[0m\n\u001b[0m\u001b[0;32m     20\u001b[0m \u001b[1;32mfrom\u001b[0m \u001b[0mtensorflow\u001b[0m\u001b[1;33m.\u001b[0m\u001b[0mpython\u001b[0m\u001b[1;33m.\u001b[0m\u001b[0mclient\u001b[0m\u001b[1;33m.\u001b[0m\u001b[0m_pywrap_tf_session\u001b[0m \u001b[1;32mimport\u001b[0m \u001b[0m_TF_SetTarget\u001b[0m\u001b[1;33m\u001b[0m\u001b[1;33m\u001b[0m\u001b[0m\n\u001b[0;32m     21\u001b[0m \u001b[1;32mfrom\u001b[0m \u001b[0mtensorflow\u001b[0m\u001b[1;33m.\u001b[0m\u001b[0mpython\u001b[0m\u001b[1;33m.\u001b[0m\u001b[0mclient\u001b[0m\u001b[1;33m.\u001b[0m\u001b[0m_pywrap_tf_session\u001b[0m \u001b[1;32mimport\u001b[0m \u001b[0m_TF_SetConfig\u001b[0m\u001b[1;33m\u001b[0m\u001b[1;33m\u001b[0m\u001b[0m\n",
      "\u001b[1;31mImportError\u001b[0m: SystemError: <built-in method __contains__ of dict object at 0x000001F5E332EBD8> returned a result with an error set"
     ]
    }
   ],
   "source": [
    "#Neural Net Algo\n",
    "import keras \n",
    "from keras.models import Sequential \n",
    "from keras.layers import Dense\n",
    "from keras.layers import Dropout\n",
    "from keras.layers.normalization import BatchNormalization\n",
    "from keras.layers.advanced_activations import LeakyReLU\n",
    "from keras.callbacks import EarlyStopping\n",
    "from keras.optimizers import Adam"
   ]
  },
  {
   "cell_type": "code",
   "execution_count": null,
   "metadata": {},
   "outputs": [],
   "source": [
    "x_val, x_test, y_val, y_test = train_test_split(x_test, y_test, test_size=0.5, random_state=0)"
   ]
  },
  {
   "cell_type": "code",
   "execution_count": 243,
   "metadata": {},
   "outputs": [
    {
     "ename": "NameError",
     "evalue": "name 'Sequential' is not defined",
     "output_type": "error",
     "traceback": [
      "\u001b[1;31m---------------------------------------------------------------------------\u001b[0m",
      "\u001b[1;31mNameError\u001b[0m                                 Traceback (most recent call last)",
      "\u001b[1;32m<ipython-input-243-00605f2e891d>\u001b[0m in \u001b[0;36m<module>\u001b[1;34m\u001b[0m\n\u001b[1;32m----> 1\u001b[1;33m \u001b[0mmodel\u001b[0m \u001b[1;33m=\u001b[0m \u001b[0mSequential\u001b[0m\u001b[1;33m(\u001b[0m\u001b[1;33m)\u001b[0m\u001b[1;33m\u001b[0m\u001b[1;33m\u001b[0m\u001b[0m\n\u001b[0m\u001b[0;32m      2\u001b[0m \u001b[0mdims\u001b[0m \u001b[1;33m=\u001b[0m \u001b[0mx_train\u001b[0m\u001b[1;33m.\u001b[0m\u001b[0mshape\u001b[0m\u001b[1;33m[\u001b[0m\u001b[1;36m1\u001b[0m\u001b[1;33m]\u001b[0m\u001b[1;33m\u001b[0m\u001b[1;33m\u001b[0m\u001b[0m\n\u001b[0;32m      3\u001b[0m \u001b[1;33m\u001b[0m\u001b[0m\n\u001b[0;32m      4\u001b[0m \u001b[0mmodel\u001b[0m\u001b[1;33m.\u001b[0m\u001b[0madd\u001b[0m\u001b[1;33m(\u001b[0m\u001b[0mBatchNormalization\u001b[0m\u001b[1;33m)\u001b[0m\u001b[1;33m\u001b[0m\u001b[1;33m\u001b[0m\u001b[0m\n\u001b[0;32m      5\u001b[0m \u001b[1;33m\u001b[0m\u001b[0m\n",
      "\u001b[1;31mNameError\u001b[0m: name 'Sequential' is not defined"
     ]
    }
   ],
   "source": [
    "model = Sequential()\n",
    "dims = x_train.shape[1]\n",
    "\n",
    "model.add(BatchNormalization)\n",
    "\n",
    "model.add(Dense(32, input_dims = dims))\n",
    "model.add(BatchNormalization())\n",
    "\n",
    "model.add(Dense(64, activation = \"relu\"))\n",
    "model.add(BatchNormalization())\n",
    "\n",
    "model.add(Dense(128, activation = \"relu\"))\n",
    "model.add(BatchNormalization())\n",
    "model.add(Dropout(0.2))\n",
    "\n",
    "model.add(Dense(64, activation = \"relu\"))\n",
    "model.add(BatchNormalization())\n",
    "\n",
    "model.add(Dense(1, activation = \"sigmoid\"))"
   ]
  },
  {
   "cell_type": "code",
   "execution_count": null,
   "metadata": {},
   "outputs": [],
   "source": [
    "epochs = 40 \n",
    "b_size = 256\n",
    "\n",
    "es = EarlyStopping(monitor = \"val_loss\", mode = \"min\")\n",
    "optim = Adam(lr = 0.001)\n",
    "model.compile(optimizer = optim, metrics = [\"accuracy\"],\n",
    "              loss = \"binary_crossentropy\")\n",
    "\n",
    "model.fit(x_train, y_train, batch_size = b_size, epochs = epochs, validation_data = (x_val, y_val))"
   ]
  },
  {
   "cell_type": "code",
   "execution_count": null,
   "metadata": {},
   "outputs": [],
   "source": [
    "train_preds_nn = model.predict(x_train)\n",
    "train_preds_nn = model.predict(x_test)\n",
    "train_preds_nn = (train_preds_nn > 0.5).astype(int).flatten()\n",
    "test_preds_nn = (test_preds_nn > 0.5).astype(int).flatten()"
   ]
  },
  {
   "cell_type": "code",
   "execution_count": null,
   "metadata": {},
   "outputs": [],
   "source": []
  }
 ],
 "metadata": {
  "kernelspec": {
   "display_name": "Python 3",
   "language": "python",
   "name": "python3"
  },
  "language_info": {
   "codemirror_mode": {
    "name": "ipython",
    "version": 3
   },
   "file_extension": ".py",
   "mimetype": "text/x-python",
   "name": "python",
   "nbconvert_exporter": "python",
   "pygments_lexer": "ipython3",
   "version": "3.7.4"
  }
 },
 "nbformat": 4,
 "nbformat_minor": 2
}
